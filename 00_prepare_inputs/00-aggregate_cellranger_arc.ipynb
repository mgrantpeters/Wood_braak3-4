{
 "cells": [
  {
   "cell_type": "code",
   "execution_count": 1,
   "id": "72ad69d3-27f1-40d3-b7b1-d7bff17eb67e",
   "metadata": {
    "tags": []
   },
   "outputs": [],
   "source": [
    "import pandas as pd\n",
    "import numpy as np"
   ]
  },
  {
   "cell_type": "code",
   "execution_count": null,
   "id": "e181979a-1546-4398-858b-07a141c0a384",
   "metadata": {
    "tags": []
   },
   "outputs": [],
   "source": [
    "df = pd.read_csv('/nemo/project/proj-gandhis-asap/multiome_cellranger_arc/Samples_NewGenome/Multiome_finished/scripts_cellranger/data/cellranger_arc_aggr.csv', index_col = 0)\n",
    "paths = list(df['per_barcode_metrics'])\n",
    "paths"
   ]
  },
  {
   "cell_type": "code",
   "execution_count": 13,
   "id": "d81eefad-1abc-4597-a44e-f02a78649b78",
   "metadata": {
    "tags": []
   },
   "outputs": [],
   "source": [
    "new = df.reset_index()['library_id'].reset_index()\n",
    "new['index'] = new['index']+1\n",
    "new.to_csv('data/sample_barcode_key.csv', index=False)"
   ]
  },
  {
   "cell_type": "code",
   "execution_count": 5,
   "id": "ec94d1a9-8194-481b-b01f-a5fcd356e114",
   "metadata": {
    "tags": []
   },
   "outputs": [
    {
     "name": "stdout",
     "output_type": "stream",
     "text": [
      "(709774, 31)\n",
      "(1438879, 31)\n",
      "(2111232, 31)\n",
      "(2826226, 31)\n",
      "(3492508, 31)\n",
      "(4220571, 31)\n",
      "(4952534, 31)\n",
      "(5665090, 31)\n",
      "(6390212, 31)\n",
      "(7102392, 31)\n",
      "(7786756, 31)\n",
      "(8495221, 31)\n",
      "(9208603, 31)\n",
      "(9857404, 31)\n",
      "(10559730, 31)\n",
      "(11275717, 31)\n",
      "(11968823, 31)\n",
      "(12609514, 31)\n",
      "(13322660, 31)\n",
      "(14057539, 31)\n",
      "(14788279, 31)\n",
      "(15521062, 31)\n",
      "(16248767, 31)\n",
      "(16964157, 31)\n",
      "(17691607, 31)\n",
      "(18401124, 31)\n",
      "(19118919, 31)\n",
      "(19851578, 31)\n",
      "(20572088, 31)\n",
      "(21284538, 31)\n",
      "(21982421, 31)\n",
      "(22658411, 31)\n",
      "(23320075, 31)\n",
      "(24044588, 31)\n",
      "(24682447, 31)\n",
      "(25387135, 31)\n",
      "(26052344, 31)\n",
      "(26771564, 31)\n",
      "(27494121, 31)\n",
      "(28225366, 31)\n",
      "(28955238, 31)\n",
      "(29683351, 31)\n",
      "(30397816, 31)\n",
      "(31086064, 31)\n",
      "(31819084, 31)\n",
      "(32523342, 31)\n",
      "(33211573, 31)\n",
      "(33926830, 31)\n",
      "(34623490, 31)\n",
      "(35342914, 31)\n",
      "(36067683, 31)\n",
      "(36779465, 31)\n",
      "(37492223, 31)\n",
      "(38227888, 31)\n",
      "(38963001, 31)\n",
      "final shape is  (38963001, 31)\n"
     ]
    }
   ],
   "source": [
    "for i in range (0,len(paths)):\n",
    "    sample=i+1\n",
    "    if i==0:\n",
    "        df = pd.read_csv(paths[i])\n",
    "        print(np.shape(df))\n",
    "    else:\n",
    "        df2 = pd.read_csv(paths[i])\n",
    "        df2['barcode'] = df2['barcode'].str.split('-', expand=True)[0]+'-%i'%sample\n",
    "        df2['atac_barcode'] = df2['atac_barcode'].str.split('-', expand=True)[0]+'-%i'%sample\n",
    "        df2['gex_barcode'] = df2['barcode']\n",
    "        df=pd.concat([df,df2])\n",
    "        print(np.shape(df))\n",
    "print('final shape is ', np.shape(df))\n",
    "        \n",
    "df.to_csv('data/per_barcode_metrics_aggr.csv', index=False)"
   ]
  },
  {
   "cell_type": "code",
   "execution_count": null,
   "id": "6843afee-4571-4655-9573-6b70cf0516e3",
   "metadata": {},
   "outputs": [],
   "source": []
  }
 ],
 "metadata": {
  "kernelspec": {
   "display_name": "panpipes",
   "language": "python",
   "name": "panpipes"
  },
  "language_info": {
   "codemirror_mode": {
    "name": "ipython",
    "version": 3
   },
   "file_extension": ".py",
   "mimetype": "text/x-python",
   "name": "python",
   "nbconvert_exporter": "python",
   "pygments_lexer": "ipython3",
   "version": "3.8.13"
  }
 },
 "nbformat": 4,
 "nbformat_minor": 5
}
