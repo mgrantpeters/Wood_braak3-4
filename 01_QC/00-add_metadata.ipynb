{
 "cells": [
  {
   "cell_type": "code",
   "execution_count": 1,
   "id": "9d65f20f-29cf-49ec-bf61-05039136ac47",
   "metadata": {},
   "outputs": [],
   "source": [
    "import muon\n",
    "import scanpy as sc\n",
    "import math\n",
    "import seaborn as sns\n",
    "import matplotlib.pyplot as plt\n",
    "import pandas as pd\n",
    "import numpy as np\n",
    "import copy"
   ]
  },
  {
   "cell_type": "code",
   "execution_count": 18,
   "id": "7518224f-8f3c-46b7-808c-434bf69ecf93",
   "metadata": {},
   "outputs": [],
   "source": [
    "###---------------------Load data\n",
    "\n",
    "madata = muon.read(\"multiome_pilot_unfilt.h5mu\")\n",
    "df_samples = pd.read_csv('/nemo/project/proj-gandhis-asap/multiome_cellranger_arc/Samples_NewGenome/Multiome_finished/scripts_cellranger/data/cellranger_arc_aggr.csv')\n",
    "df = pd.read_csv(\"ASAP_wood_project_selected_demogrpahics.csv\")\n",
    "batches = pd.read_csv('../01-QC/Wood_batches_pilot_edited.csv')"
   ]
  },
  {
   "cell_type": "code",
   "execution_count": 19,
   "id": "10cc6b70-fe1b-4c18-9d15-119fc68012c8",
   "metadata": {},
   "outputs": [
    {
     "name": "stderr",
     "output_type": "stream",
     "text": [
      "/tmp/slurm_59360175/ipykernel_274509/2043008382.py:12: SettingWithCopyWarning: \n",
      "A value is trying to be set on a copy of a slice from a DataFrame.\n",
      "Try using .loc[row_indexer,col_indexer] = value instead\n",
      "\n",
      "See the caveats in the documentation: https://pandas.pydata.org/pandas-docs/stable/user_guide/indexing.html#returning-a-view-versus-a-copy\n",
      "  kit5['Case'] = kit5['Case']+'_kit5'\n"
     ]
    }
   ],
   "source": [
    "###---------------------Prepare annotation\n",
    "C = copy.copy(df)\n",
    "P = copy.copy(df)\n",
    "F = copy.copy(df)\n",
    "C['Case'] = C['Case']+'C'\n",
    "C['region'] = 'C'\n",
    "P['Case'] = P['Case']+'P'\n",
    "P['region'] = 'P'\n",
    "F['Case'] = F['Case']+'F'\n",
    "F['region'] = 'F'\n",
    "kit5 = P[P['Case']=='C046P']\n",
    "kit5['Case'] = kit5['Case']+'_kit5'\n",
    "\n",
    "###---------------------Merge sample_id\n",
    "madata['rna'].obs.reset_index(inplace = True)\n",
    "madata['rna'].obs['new'] = madata['rna'].obs['index'].astype(str)\n",
    "madata['rna'].obs['new'] = (madata['rna'].obs['new'].str.split('-', expand = True)[1]).astype(str)\n",
    "df_samples['index'] = pd.DataFrame(df_samples['library_id']).astype(str).reset_index()['index'].astype(int)\n",
    "df_samples['index'] = (df_samples['index']+1).astype(str)\n",
    "merged = madata['rna'].obs.merge(df_samples, left_on = 'new', right_on = 'index', how = 'left')\n",
    "madata['rna'].obs['sample_id'] = list(merged['library_id'])\n",
    "madata['rna'].obs['sample_id']\n",
    "\n",
    "madata['rna'].obs['sample_id'] = madata['rna'].obs['sample_id'].astype(str)\n",
    "df['Case'] = df['Case'].astype(str)\n",
    "\n",
    "###---------------------Merge annotation\n",
    "all_annot = pd.concat([C,P,F, kit5], axis = 0)\n",
    "all_annot = all_annot.merge(batches, left_on = 'Case', right_on = 'sample_id', how = 'left')\n",
    "all_annot.to_csv('list_55samples_pilot_withmetadata.csv')"
   ]
  },
  {
   "cell_type": "code",
   "execution_count": 4,
   "id": "690c8bd3-8f07-4c7c-8bf8-d848f251d5ea",
   "metadata": {},
   "outputs": [
    {
     "name": "stderr",
     "output_type": "stream",
     "text": [
      "/camp/lab/gandhis/home/users/grantpm/.conda/envs/panpipes/lib/python3.8/site-packages/anndata/_core/anndata.py:798: UserWarning: \n",
      "AnnData expects .obs.index to contain strings, but got values like:\n",
      "    [0, 1, 2, 3, 4]\n",
      "\n",
      "    Inferred to be: integer\n",
      "\n",
      "  value_idx = self._prep_dim_index(value.index, attr)\n"
     ]
    },
    {
     "data": {
      "text/plain": [
       "Index(['sample_id', 'doublet_scores', 'predicted_doublets',\n",
       "       'n_genes_by_counts', 'log1p_n_genes_by_counts', 'total_counts',\n",
       "       'log1p_total_counts', 'total_counts_hb', 'log1p_total_counts_hb',\n",
       "       'pct_counts_hb', 'total_counts_mt', 'log1p_total_counts_mt',\n",
       "       'pct_counts_mt', 'total_counts_rp', 'log1p_total_counts_rp',\n",
       "       'pct_counts_rp', 'total_counts_ig', 'log1p_total_counts_ig',\n",
       "       'pct_counts_ig', 'MarkersNeutro_score', 'S_score', 'G2M_score', 'phase',\n",
       "       'new', 'Case', 'Age', 'Sex', 'Onset', 'Duration', 'Dementia', 'PMI',\n",
       "       'SH/X', 'FixFr', 'SC', 'CSF', 'Q.', 'Vol.', 'RIN', 'Weight', 'NPD',\n",
       "       'aSN', 'Tau', 'aB', 'Group', 'Fresh/Fix', 'Suitable', 'Pathology',\n",
       "       'region', 'batch'],\n",
       "      dtype='object')"
      ]
     },
     "execution_count": 4,
     "metadata": {},
     "output_type": "execute_result"
    }
   ],
   "source": [
    "madata['rna'].obs = madata['rna'].obs.merge(all_annot[['Case','Age', 'Sex', 'Onset', 'Duration', 'Dementia', 'PMI',\n",
    "       'SH/X', 'FixFr', 'SC', 'CSF', 'Q.', 'Vol.', 'RIN', 'Weight', 'NPD',\n",
    "        'aSN', 'Tau', 'aB', 'Group', 'Fresh/Fix',\n",
    "       'Suitable', 'Pathology', 'region', 'batch']], left_on = 'sample_id', right_on = 'Case', how = 'left')\n",
    "#madata['rna'].obs = madata['rna'].obs.merge(batches, left_on = 'sample_id', right_on = 'sample_id', how = 'left')\n",
    "madata['rna'].obs.set_index('index', inplace = True)\n",
    "madata['rna'].obs.columns"
   ]
  },
  {
   "cell_type": "code",
   "execution_count": 5,
   "id": "9e0f0ea8-2b58-4cde-91e0-b87274520f50",
   "metadata": {},
   "outputs": [],
   "source": [
    "madata.obs.drop(columns = 'sample_id', inplace = True)\n",
    "madata.obs = madata.obs.merge(madata['rna'].obs[['sample_id','Age', 'Sex', 'Onset', 'Duration', 'Dementia', 'PMI',\n",
    "       'SH/X', 'FixFr', 'SC', 'CSF', 'Q.', 'Vol.', 'RIN', 'Weight', 'NPD',\n",
    "        'aSN', 'Tau', 'aB', 'Group', 'Fresh/Fix',\n",
    "       'Suitable', 'Pathology', 'region', 'batch']], right_index = True, left_index = True, how = 'left')\n"
   ]
  },
  {
   "cell_type": "code",
   "execution_count": 6,
   "id": "72a3c817-cd43-42e0-bcdf-1d12458d95e7",
   "metadata": {},
   "outputs": [],
   "source": [
    "madata['atac'].obs.drop(columns = 'sample_id', inplace = True)\n",
    "madata['atac'].obs = madata['atac'].obs.merge(madata['rna'].obs[['sample_id','Age', 'Sex', 'Onset', 'Duration', 'Dementia', 'PMI',\n",
    "       'SH/X', 'FixFr', 'SC', 'CSF', 'Q.', 'Vol.', 'RIN', 'Weight', 'NPD',\n",
    "        'aSN', 'Tau', 'aB', 'Group', 'Fresh/Fix',\n",
    "       'Suitable', 'Pathology', 'region', 'batch']], right_index = True, left_index = True, how = 'left')\n"
   ]
  },
  {
   "cell_type": "code",
   "execution_count": 7,
   "id": "40c0a278-45a1-4e34-9959-f24fdb955240",
   "metadata": {},
   "outputs": [
    {
     "name": "stderr",
     "output_type": "stream",
     "text": [
      "/camp/lab/gandhis/home/users/grantpm/.conda/envs/panpipes/lib/python3.8/site-packages/anndata/_core/anndata.py:1235: SettingWithCopyWarning: \n",
      "A value is trying to be set on a copy of a slice from a DataFrame.\n",
      "Try using .loc[row_indexer,col_indexer] = value instead\n",
      "\n",
      "See the caveats in the documentation: https://pandas.pydata.org/pandas-docs/stable/user_guide/indexing.html#returning-a-view-versus-a-copy\n",
      "  df[key] = c\n",
      "/camp/lab/gandhis/home/users/grantpm/.conda/envs/panpipes/lib/python3.8/site-packages/anndata/_core/anndata.py:1235: SettingWithCopyWarning: \n",
      "A value is trying to be set on a copy of a slice from a DataFrame.\n",
      "Try using .loc[row_indexer,col_indexer] = value instead\n",
      "\n",
      "See the caveats in the documentation: https://pandas.pydata.org/pandas-docs/stable/user_guide/indexing.html#returning-a-view-versus-a-copy\n",
      "  df[key] = c\n"
     ]
    }
   ],
   "source": [
    "madata.write('annotated_multiome_pilot_unfilt.h5mu')"
   ]
  },
  {
   "cell_type": "code",
   "execution_count": null,
   "id": "897fc83b-31c3-4c8b-9a55-3e2d8553a227",
   "metadata": {},
   "outputs": [],
   "source": [
    "madata = muon.read(\"annotated_multiome_pilot_unfilt.h5mu\")\n",
    "\n",
    "madata['rna'].obs"
   ]
  },
  {
   "cell_type": "code",
   "execution_count": 9,
   "id": "6749cb04-d275-4ad9-ba44-524f994108b5",
   "metadata": {},
   "outputs": [
    {
     "data": {
      "text/plain": [
       "Index(['sample_id', 'doublet_scores', 'predicted_doublets',\n",
       "       'n_genes_by_counts', 'log1p_n_genes_by_counts', 'total_counts',\n",
       "       'log1p_total_counts', 'total_counts_hb', 'log1p_total_counts_hb',\n",
       "       'pct_counts_hb', 'total_counts_mt', 'log1p_total_counts_mt',\n",
       "       'pct_counts_mt', 'total_counts_rp', 'log1p_total_counts_rp',\n",
       "       'pct_counts_rp', 'total_counts_ig', 'log1p_total_counts_ig',\n",
       "       'pct_counts_ig', 'MarkersNeutro_score', 'S_score', 'G2M_score', 'phase',\n",
       "       'new', 'Case', 'Age', 'Sex', 'Onset', 'Duration', 'Dementia', 'PMI',\n",
       "       'SH/X', 'FixFr', 'SC', 'CSF', 'Q.', 'Vol.', 'RIN', 'Weight', 'NPD',\n",
       "       'aSN', 'Tau', 'aB', 'Group', 'Fresh/Fix', 'Suitable', 'Pathology',\n",
       "       'region', 'batch'],\n",
       "      dtype='object')"
      ]
     },
     "execution_count": 9,
     "metadata": {},
     "output_type": "execute_result"
    }
   ],
   "source": [
    "madata['rna'].obs.columns"
   ]
  },
  {
   "cell_type": "code",
   "execution_count": 16,
   "id": "a130de33-8d12-4ad4-934d-52e58990ffca",
   "metadata": {},
   "outputs": [],
   "source": [
    "pd.DataFrame(madata['rna'].obs['sample_id'].unique()).to_csv('list_55samples_pilot.csv')"
   ]
  },
  {
   "cell_type": "code",
   "execution_count": 26,
   "id": "41e4580f-8ced-4384-8cc0-0df7604f8fe9",
   "metadata": {},
   "outputs": [],
   "source": [
    "all_annot.set_index('Case').loc[madata['rna'].obs['sample_id'].unique()].to_csv('list_55samples_pilot_withmetadata.csv')"
   ]
  },
  {
   "cell_type": "code",
   "execution_count": 23,
   "id": "5632b292-68c5-4b17-bd11-1715cf6f7290",
   "metadata": {},
   "outputs": [
    {
     "data": {
      "text/plain": [
       "array(['PD0086P', 'PD0980F', 'PD0945P', 'C073P', 'PDC034C', 'PDC029F',\n",
       "       'PD0109F', 'PD0945C', 'PDC087F', 'C030C', 'PD0687F', 'PD0022F',\n",
       "       'C074P', 'PD0086F', 'PD0913P', 'PDC034F', 'PD0590C', 'C043C',\n",
       "       'PDC085P', 'PD0109C', 'C076P', 'C073F', 'PD0822C', 'PD0980P',\n",
       "       'PD0822F', 'PDC035C', 'PD0779F', 'C074F', 'PDC029C', 'C076C',\n",
       "       'PD0969F', 'PD0596P', 'C073C', 'C075P', 'PD0109P', 'PD0913F',\n",
       "       'PD0086C', 'PDC085C', 'C046C', 'PD0779C', 'C030F', 'PDC085F',\n",
       "       'PDC035F', 'C075F', 'PDC034P', 'PDC035P', 'C046P_kit5', 'PDC022F',\n",
       "       'C076F', 'PD0612F', 'PD0612C', 'PD0612P', 'PD0822P', 'PD0969C',\n",
       "       'PD0022C'], dtype=object)"
      ]
     },
     "execution_count": 23,
     "metadata": {},
     "output_type": "execute_result"
    }
   ],
   "source": [
    "madata['rna'].obs['sample_id'].unique()"
   ]
  },
  {
   "cell_type": "code",
   "execution_count": null,
   "id": "b7280c8d-561e-47b9-9b89-2b55f6c9ea83",
   "metadata": {},
   "outputs": [],
   "source": []
  }
 ],
 "metadata": {
  "kernelspec": {
   "display_name": "panpipes",
   "language": "python",
   "name": "panpipes"
  },
  "language_info": {
   "codemirror_mode": {
    "name": "ipython",
    "version": 3
   },
   "file_extension": ".py",
   "mimetype": "text/x-python",
   "name": "python",
   "nbconvert_exporter": "python",
   "pygments_lexer": "ipython3",
   "version": "3.8.13"
  }
 },
 "nbformat": 4,
 "nbformat_minor": 5
}
