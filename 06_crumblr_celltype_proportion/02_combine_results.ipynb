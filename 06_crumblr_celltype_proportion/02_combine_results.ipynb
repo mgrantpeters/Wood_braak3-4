{
 "cells": [
  {
   "cell_type": "code",
   "execution_count": 1,
   "id": "3c27c53f-e1a8-44ab-b10a-9b95b92a00cd",
   "metadata": {},
   "outputs": [],
   "source": [
    "import pandas as pd\n",
    "import sys,os\n",
    "import glob"
   ]
  },
  {
   "cell_type": "code",
   "execution_count": 2,
   "id": "0c6f8bff-2acf-4abe-ab69-6111861faa6f",
   "metadata": {},
   "outputs": [],
   "source": [
    "groups = [\"/home/MRMelissaGrantPeters/MinaRyten/Melissa/teamWood/Abundance_final_data/processed_data/results/results_crumblr_All_Abundance_raw_*\"]"
   ]
  },
  {
   "cell_type": "code",
   "execution_count": 14,
   "id": "ea7a3289-0e00-4ac3-9756-b534cf634dfe",
   "metadata": {},
   "outputs": [],
   "source": [
    "for n in range(0,len(groups)):\n",
    "    paths = glob.glob(groups[n])\n",
    "    for m in range(0,len(paths)):\n",
    "        df = pd.read_csv(paths[m])\n",
    "        df.rename(columns = {'Unnamed: 0' : \"cell_type\"}, inplace = True)\n",
    "        df['annotation_level'] = paths[m].split('annotation_level_')[1].split('_')[0]\n",
    "        df['major_cell_type'] = paths[m].split('annotation_level_')[1].split('_')[1].split('.csv')[0]\n",
    "        df['brain_region'] = paths[m].split('Abundance_raw_')[1].split('_annotation')[0]\n",
    "        if (m==0):\n",
    "            results = df\n",
    "        else:\n",
    "            results = pd.concat([results,df], axis = 0)\n",
    "            results.to_csv('/home/MRMelissaGrantPeters/MinaRyten/Melissa/teamWood/Abundance_final_data/processed_data/results_for_plotting/%s.csv' % groups[n].split('/')[9].split('*')[0])"
   ]
  },
  {
   "cell_type": "code",
   "execution_count": 16,
   "id": "5ec216b7-139e-4ed2-9e10-82348ba668f2",
   "metadata": {},
   "outputs": [
    {
     "data": {
      "text/plain": [
       "array(['all_cortex', 'C', 'F', 'P'], dtype=object)"
      ]
     },
     "execution_count": 16,
     "metadata": {},
     "output_type": "execute_result"
    }
   ],
   "source": [
    "results['brain_region'].unique()"
   ]
  },
  {
   "cell_type": "code",
   "execution_count": 5,
   "id": "80943aaa-0418-4564-af2e-2ff1d5d9af1c",
   "metadata": {},
   "outputs": [
    {
     "data": {
      "text/plain": [
       "'1.csv'"
      ]
     },
     "execution_count": 5,
     "metadata": {},
     "output_type": "execute_result"
    }
   ],
   "source": [
    "paths[m].split('annotation_level_')[1]"
   ]
  },
  {
   "cell_type": "code",
   "execution_count": 6,
   "id": "5890e1d2-6203-41fc-bd24-4b7c75ed00e7",
   "metadata": {},
   "outputs": [
    {
     "data": {
      "text/plain": [
       "'1.csv'"
      ]
     },
     "execution_count": 6,
     "metadata": {},
     "output_type": "execute_result"
    }
   ],
   "source": [
    "paths[m].split('annotation_level_')[1].split('_')[0]"
   ]
  },
  {
   "cell_type": "code",
   "execution_count": 9,
   "id": "bf5a4a9d-f007-41f6-8da4-ae3e96fe7ff8",
   "metadata": {},
   "outputs": [
    {
     "data": {
      "text/plain": [
       "['1.csv']"
      ]
     },
     "execution_count": 9,
     "metadata": {},
     "output_type": "execute_result"
    }
   ],
   "source": [
    "paths[m].split('annotation_level_')[1].split('_')#[1].split('.csv')[0]"
   ]
  },
  {
   "cell_type": "code",
   "execution_count": 11,
   "id": "217d1ead-400a-4214-856d-7a9c5b884bdb",
   "metadata": {},
   "outputs": [
    {
     "data": {
      "text/plain": [
       "1"
      ]
     },
     "execution_count": 11,
     "metadata": {},
     "output_type": "execute_result"
    }
   ],
   "source": [
    "len(groups)"
   ]
  },
  {
   "cell_type": "code",
   "execution_count": 13,
   "id": "bf1f6cfd-1b05-4da0-80a8-eb7041927ba9",
   "metadata": {},
   "outputs": [
    {
     "data": {
      "text/plain": [
       "'/home/MRMelissaGrantPeters/MinaRyten/Melissa/teamWood/Abundance_final_data/processed_data/results/results_crumblr_All_Abundance_raw_annotation_level_1.csv'"
      ]
     },
     "execution_count": 13,
     "metadata": {},
     "output_type": "execute_result"
    }
   ],
   "source": [
    "paths[m]"
   ]
  },
  {
   "cell_type": "code",
   "execution_count": null,
   "id": "2331642f-73ea-4f61-8ba4-5f4402a87d68",
   "metadata": {},
   "outputs": [],
   "source": []
  }
 ],
 "metadata": {
  "kernelspec": {
   "display_name": "Python 3 (ipykernel)",
   "language": "python",
   "name": "python3"
  },
  "language_info": {
   "codemirror_mode": {
    "name": "ipython",
    "version": 3
   },
   "file_extension": ".py",
   "mimetype": "text/x-python",
   "name": "python",
   "nbconvert_exporter": "python",
   "pygments_lexer": "ipython3",
   "version": "3.8.0"
  }
 },
 "nbformat": 4,
 "nbformat_minor": 5
}
